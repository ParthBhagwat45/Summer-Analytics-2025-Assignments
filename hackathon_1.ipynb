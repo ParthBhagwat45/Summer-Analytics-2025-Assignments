{
 "cells": [
  {
   "cell_type": "code",
   "execution_count": 1,
   "id": "df210078-beea-483c-b846-b178e9dea273",
   "metadata": {},
   "outputs": [
    {
     "name": "stdout",
     "output_type": "stream",
     "text": [
      "              precision    recall  f1-score   support\n",
      "\n",
      "           0       0.91      0.85      0.88       340\n",
      "           1       0.31      0.43      0.36        51\n",
      "\n",
      "    accuracy                           0.80       391\n",
      "   macro avg       0.61      0.64      0.62       391\n",
      "weighted avg       0.83      0.80      0.81       391\n",
      "\n"
     ]
    }
   ],
   "source": [
    "import pandas as pd\n",
    "import numpy as np\n",
    "import matplotlib.pyplot as plt\n",
    "from sklearn.model_selection import train_test_split\n",
    "from sklearn.pipeline import Pipeline\n",
    "from sklearn.impute import SimpleImputer\n",
    "from sklearn.ensemble import RandomForestClassifier\n",
    "from sklearn.metrics import classification_report, precision_recall_fscore_support\n",
    "\n",
    "# --- Function: Threshold Tuning with Class 1 F1 Optimization ---\n",
    "def tune_threshold(model, X_val, y_val, class0_min_prec=0.85, class0_min_rec=0.85):\n",
    "    probs = model.predict_proba(X_val)[:, 1]\n",
    "    thresholds = np.arange(0.1, 0.91, 0.01)\n",
    "\n",
    "    best_f1 = 0\n",
    "    best_thresh = 0.5\n",
    "    for t in thresholds:\n",
    "        preds = (probs >= t).astype(int)\n",
    "        precision, recall, f1, _ = precision_recall_fscore_support(\n",
    "            y_val, preds, average=None, labels=[0, 1], zero_division=0\n",
    "        )\n",
    "        if precision[0] >= class0_min_prec and recall[0] >= class0_min_rec:\n",
    "            if f1[1] > best_f1:\n",
    "                best_f1 = f1[1]\n",
    "                best_thresh = t\n",
    "\n",
    "    return best_thresh, probs\n",
    "\n",
    "# --- Load and preprocess ---\n",
    "train = pd.read_csv('Train_Data.csv')\n",
    "test = pd.read_csv('Test_Data.csv')\n",
    "sample_submission = pd.read_csv(r'C:\\Users\\parth\\Downloads\\Sample_Submission.csv')\n",
    "train = train.dropna(subset=['age_group'])\n",
    "train['age_group'] = train['age_group'].map({'Adult': 0, 'Senior': 1})\n",
    "\n",
    "test_ids = test['SEQN']\n",
    "train = train.drop(columns=['SEQN'])\n",
    "test = test.drop(columns=['SEQN'])\n",
    "\n",
    "X = train.drop(columns='age_group')\n",
    "y = train['age_group']\n",
    "X_test = test\n",
    "\n",
    "# --- Train-validation split ---\n",
    "X_train, X_val, y_train, y_val = train_test_split(X, y, test_size=0.2, random_state=42)\n",
    "\n",
    "# --- Pipeline: Imputer + Random Forest ---\n",
    "pipeline = Pipeline([\n",
    "    (\"imputer\", SimpleImputer(strategy='mean')),\n",
    "    (\"clf\", RandomForestClassifier(n_estimators=300, max_depth=10, class_weight='balanced', random_state=42))\n",
    "])\n",
    "pipeline.fit(X_train, y_train)\n",
    "\n",
    "# --- Tune threshold ---\n",
    "best_thresh, val_probs = tune_threshold(pipeline.named_steps['clf'], pipeline.named_steps['imputer'].transform(X_val), y_val)\n",
    "val_preds = (val_probs >= best_thresh).astype(int)\n",
    "\n",
    "# --- Evaluation ---\n",
    "\n",
    "print(classification_report(y_val, val_preds))\n",
    "\n",
    "# --- Predict on test ---\n",
    "X_test_transformed = pipeline.named_steps['imputer'].transform(X_test)\n",
    "test_probs = pipeline.named_steps['clf'].predict_proba(X_test_transformed)[:, 1]\n",
    "test_preds = (test_probs >= best_thresh).astype(int)\n",
    "\n",
    "# --- Save submission ---\n",
    "submission = pd.DataFrame({'age_group': test_preds})\n",
    "submission.to_csv(\"submission_f1_class1_optimized_clean.csv\", index=False)\n"
   ]
  }
 ],
 "metadata": {
  "kernelspec": {
   "display_name": "Python [conda env:base] *",
   "language": "python",
   "name": "conda-base-py"
  },
  "language_info": {
   "codemirror_mode": {
    "name": "ipython",
    "version": 3
   },
   "file_extension": ".py",
   "mimetype": "text/x-python",
   "name": "python",
   "nbconvert_exporter": "python",
   "pygments_lexer": "ipython3",
   "version": "3.12.3"
  }
 },
 "nbformat": 4,
 "nbformat_minor": 5
}
